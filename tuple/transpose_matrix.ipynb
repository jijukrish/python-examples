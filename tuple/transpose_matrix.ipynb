{
 "cells": [
  {
   "cell_type": "code",
   "execution_count": 1,
   "metadata": {},
   "outputs": [
    {
     "name": "stdout",
     "output_type": "stream",
     "text": [
      "[12, 7, 5]\n",
      "[9, 3, 6]\n"
     ]
    }
   ],
   "source": [
    "# Example1 transpose a matrix\n",
    "X = [[12,9],\n",
    "     [7,3],\n",
    "     [5,6]]\n",
    "result =[[0,0,0],\n",
    "         [0,0,0]]\n",
    "# iterate through rows\n",
    "for i in range(len(X)):\n",
    "    #iterate through columns\n",
    "    for j in range(len(X[0])):\n",
    "        result[j][i] = X[i][j]\n",
    "for i in result:\n",
    "    print(i)"
   ]
  }
 ],
 "metadata": {
  "kernelspec": {
   "display_name": "Python 3",
   "language": "python",
   "name": "python3"
  },
  "language_info": {
   "codemirror_mode": {
    "name": "ipython",
    "version": 3
   },
   "file_extension": ".py",
   "mimetype": "text/x-python",
   "name": "python",
   "nbconvert_exporter": "python",
   "pygments_lexer": "ipython3",
   "version": "3.10.0"
  },
  "orig_nbformat": 4
 },
 "nbformat": 4,
 "nbformat_minor": 2
}
