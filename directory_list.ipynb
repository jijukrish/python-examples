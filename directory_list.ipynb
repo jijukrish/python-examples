{
 "cells": [
  {
   "cell_type": "code",
   "execution_count": 2,
   "metadata": {},
   "outputs": [
    {
     "name": "stdout",
     "output_type": "stream",
     "text": [
      "['track1', 'track2', 'track3', 'track4']\n"
     ]
    }
   ],
   "source": [
    "songs_tracks=['track1','track2','track3','track4']\n",
    "print(songs_tracks)"
   ]
  },
  {
   "cell_type": "code",
   "execution_count": 8,
   "metadata": {},
   "outputs": [
    {
     "name": "stdout",
     "output_type": "stream",
     "text": [
      "files and directories in'  C:/devops/gitprojects/  ':\n",
      "['DevOps', 'python-examples']\n"
     ]
    }
   ],
   "source": [
    "import os\n",
    "path = \"C:/devops/gitprojects/\"\n",
    "dir_list = os.listdir(path)\n",
    "\n",
    "print(\"files and directories in' \",path, \" ':\")\n",
    "print(dir_list)"
   ]
  }
 ],
 "metadata": {
  "kernelspec": {
   "display_name": "Python 3",
   "language": "python",
   "name": "python3"
  },
  "language_info": {
   "codemirror_mode": {
    "name": "ipython",
    "version": 3
   },
   "file_extension": ".py",
   "mimetype": "text/x-python",
   "name": "python",
   "nbconvert_exporter": "python",
   "pygments_lexer": "ipython3",
   "version": "3.10.0"
  },
  "orig_nbformat": 4
 },
 "nbformat": 4,
 "nbformat_minor": 2
}
